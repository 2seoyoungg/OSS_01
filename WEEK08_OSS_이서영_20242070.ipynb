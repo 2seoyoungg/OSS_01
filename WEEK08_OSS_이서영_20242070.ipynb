{
  "nbformat": 4,
  "nbformat_minor": 0,
  "metadata": {
    "colab": {
      "provenance": []
    },
    "kernelspec": {
      "name": "python3",
      "display_name": "Python 3"
    },
    "language_info": {
      "name": "python"
    }
  },
  "cells": [
    {
      "cell_type": "code",
      "execution_count": 1,
      "metadata": {
        "id": "l8FHEX-TIsht"
      },
      "outputs": [],
      "source": [
        "from abc import ABC, abstractmethod\n",
        "from collections import namedtuple\n",
        "\n",
        "Customer = namedtuple('Customer', 'name fidelity')"
      ]
    },
    {
      "cell_type": "code",
      "source": [
        "park = Customer('Park', 100)\n",
        "park"
      ],
      "metadata": {
        "colab": {
          "base_uri": "https://localhost:8080/"
        },
        "id": "jR00_pmFKD5Y",
        "outputId": "3993ae47-0e29-497e-d9a1-64890ac4138c"
      },
      "execution_count": 2,
      "outputs": [
        {
          "output_type": "execute_result",
          "data": {
            "text/plain": [
              "Customer(name='Park', fidelity=100)"
            ]
          },
          "metadata": {},
          "execution_count": 2
        }
      ]
    },
    {
      "cell_type": "code",
      "source": [
        "class LineItem:\n",
        "  \"\"\"구매할 물품/갯수 생성해서 총 가격을 반환\"\"\"\n",
        "  def __init__(self, product, quantity, price):\n",
        "    self.product = product\n",
        "    self.quantity = quantity\n",
        "    self.price = price\n",
        "\n",
        "  def total(self):\n",
        "    return self.price * self.quantity"
      ],
      "metadata": {
        "id": "d0IUO3_0KKJG"
      },
      "execution_count": 16,
      "outputs": []
    },
    {
      "cell_type": "code",
      "source": [
        "class Order:\n",
        "  \"\"\"고객(namedtuple) 및 LineItem 클래스의 인스턴스들을 cart로 받아서 총 계산할 가격을 산출\"\"\"\n",
        "  def __init__(self, customer, cart, promotion=None):\n",
        "    self.customer = customer\n",
        "    self.cart = list(cart)\n",
        "    self.promotion = promotion\n",
        "\n",
        "  def total(self):\n",
        "    \"\"\"__total 속성이 없으면 전체 계산할 값을 계산\"\"\"\n",
        "    if not hasattr(self, '__total'):\n",
        "      self.__total = sum(item.total() for item in self.cart)\n",
        "    return self.__total\n",
        "\n",
        "  def due(self):\n",
        "    \"\"\"할인금액 차감\"\"\"\n",
        "    if self.promotion is None:\n",
        "      discount = 0\n",
        "    else:\n",
        "      discount = self.promotion.discount(self)\n",
        "    return self.total() - discount\n",
        "\n",
        "  def __repr__(self):\n",
        "    fmt = '<Order total: {:.2f} due: {:.2f}>'\n",
        "    return fmt.format(self.total(), self.due())"
      ],
      "metadata": {
        "id": "E_ig0tN4Kd-G"
      },
      "execution_count": 17,
      "outputs": []
    },
    {
      "cell_type": "code",
      "source": [
        "class Promotion(ABC):\n",
        "  \"\"\"할인 혜택 클래스들의 형태를 선언\"\"\"\n",
        "\n",
        "  @abstractmethod\n",
        "  def discount(self, order):\n",
        "    \"\"\"할인액을 구체적인 숫자로 반환\"\"\"\n",
        "    pass"
      ],
      "metadata": {
        "id": "PhOopBzOLLJl"
      },
      "execution_count": 18,
      "outputs": []
    },
    {
      "cell_type": "code",
      "source": [
        "class FidelityPromo(Promotion):\n",
        "  \"\"\"충성도 점수가 1000점 이상인 고객에게 전체 5% 할인 적용\"\"\"\n",
        "\n",
        "  def discount(self, order):\n",
        "    return order.total() * 0.05 if order.customer.fidelity >= 1000 else 0\n",
        "\n",
        "class BulkItemPromo(Promotion):\n",
        "  \"\"\"20개 이상의 동일 상품을 구입하면 10% 할인 적용\"\"\"\n",
        "\n",
        "  def discount(self, order):\n",
        "    discount = 0\n",
        "    for item in order.cart:\n",
        "      if item.quantity >= 20:\n",
        "        discount += item.total() * 0.1\n",
        "    return discount\n",
        "\n",
        "class LargeOrderPromo(Promotion):\n",
        "  \"\"\"10종류 이상의 상품을 구입하면 전체 7% 할인 적용\"\"\"\n",
        "\n",
        "  def discount(self, order):\n",
        "    distinct_items = {item.product for item in order.cart}\n",
        "    if len(distinct_items) >= 10:\n",
        "      return order.total() * 0.07\n",
        "    return 0"
      ],
      "metadata": {
        "id": "0A4PgFwgLgOF"
      },
      "execution_count": 28,
      "outputs": []
    },
    {
      "cell_type": "code",
      "source": [
        "joe = Customer('John Doe', 0)\n",
        "ann = Customer('Ann Smith', 1100)\n",
        "cart = [LineItem('banana', 4, .5),\n",
        "        LineItem('apple', 10, 1.5),\n",
        "        LineItem('watermellon', 5, 5.0)]"
      ],
      "metadata": {
        "id": "fQgQr68cMVhV"
      },
      "execution_count": 29,
      "outputs": []
    },
    {
      "cell_type": "code",
      "source": [
        "Order(joe, cart, FidelityPromo())\n"
      ],
      "metadata": {
        "colab": {
          "base_uri": "https://localhost:8080/"
        },
        "id": "9fC8HA1MMq9N",
        "outputId": "e706c6aa-3bf6-4b71-9896-d626c84bbf1d"
      },
      "execution_count": 30,
      "outputs": [
        {
          "output_type": "execute_result",
          "data": {
            "text/plain": [
              "<Order total: 42.00 due: 42.00>"
            ]
          },
          "metadata": {},
          "execution_count": 30
        }
      ]
    },
    {
      "cell_type": "code",
      "source": [
        "Order(ann, cart, FidelityPromo())"
      ],
      "metadata": {
        "colab": {
          "base_uri": "https://localhost:8080/"
        },
        "id": "lhXJsgUlM1TS",
        "outputId": "5b70416b-13f5-402b-ba9e-ad31281687c8"
      },
      "execution_count": 31,
      "outputs": [
        {
          "output_type": "execute_result",
          "data": {
            "text/plain": [
              "<Order total: 42.00 due: 39.90>"
            ]
          },
          "metadata": {},
          "execution_count": 31
        }
      ]
    },
    {
      "cell_type": "code",
      "source": [
        "banana_cart = [LineItem('banana', 30, .5),\n",
        "               LineItem('apple', 10, 1.5)]"
      ],
      "metadata": {
        "id": "mxmKhydvM44-"
      },
      "execution_count": 32,
      "outputs": []
    },
    {
      "cell_type": "code",
      "source": [
        "Order(joe, banana_cart, BulkItemPromo())"
      ],
      "metadata": {
        "colab": {
          "base_uri": "https://localhost:8080/"
        },
        "id": "bI0ZoDpGNuq9",
        "outputId": "79b86197-2019-417b-fc8a-0244fc0a3451"
      },
      "execution_count": 33,
      "outputs": [
        {
          "output_type": "execute_result",
          "data": {
            "text/plain": [
              "<Order total: 30.00 due: 28.50>"
            ]
          },
          "metadata": {},
          "execution_count": 33
        }
      ]
    },
    {
      "cell_type": "code",
      "source": [
        "long_order = [LineItem(str(item_code), 1, 1.0)\n",
        "for item_code in range(10)]"
      ],
      "metadata": {
        "id": "EqU5uaiYNves"
      },
      "execution_count": 34,
      "outputs": []
    },
    {
      "cell_type": "code",
      "source": [
        "Order(joe, long_order, LargeOrderPromo())"
      ],
      "metadata": {
        "colab": {
          "base_uri": "https://localhost:8080/"
        },
        "id": "czUPKyxLN6hM",
        "outputId": "e6be7bf2-c8a3-4fdd-cf74-29e1c676c65f"
      },
      "execution_count": 35,
      "outputs": [
        {
          "output_type": "execute_result",
          "data": {
            "text/plain": [
              "<Order total: 10.00 due: 9.30>"
            ]
          },
          "metadata": {},
          "execution_count": 35
        }
      ]
    },
    {
      "cell_type": "code",
      "source": [
        "Order(joe, cart, LargeOrderPromo())"
      ],
      "metadata": {
        "colab": {
          "base_uri": "https://localhost:8080/"
        },
        "id": "d5gvyJBEN8cM",
        "outputId": "687a1fc9-eb1c-4afc-9389-7c5bf0af563f"
      },
      "execution_count": 36,
      "outputs": [
        {
          "output_type": "execute_result",
          "data": {
            "text/plain": [
              "<Order total: 42.00 due: 42.00>"
            ]
          },
          "metadata": {},
          "execution_count": 36
        }
      ]
    },
    {
      "cell_type": "code",
      "source": [
        "class Order:\n",
        "  \"\"\"고객(namedtuple) 및 LineItem 클래스의 인스턴스들을 cart로 받아서 총 계산할 가격을 산출\"\"\"\n",
        "  def __init__(self, customer,cart, promotion=None):\n",
        "    self.customer = customer\n",
        "    self.cart = list(cart)\n",
        "    self.promotion = promotion\n",
        "\n",
        "  def total(self):\n",
        "    if not hasattr(self, '__total'):\n",
        "      self.__total = sum(item.total() for item in self.cart)\n",
        "    return self.__total\n",
        "\n",
        "  def due(self):\n",
        "    if self.promotion is None:\n",
        "      discount = 0\n",
        "    else:\n",
        "      discount = self.promotion(self)\n",
        "    return self.total() - discount\n",
        "\n",
        "  def __repr__(self):\n",
        "    fmt = '<Order total: {:.2f} due: {:.2f}>'\n",
        "    return fmt.format(self.total(), self.due())"
      ],
      "metadata": {
        "id": "PpxlKyeeOJA2"
      },
      "execution_count": 50,
      "outputs": []
    },
    {
      "cell_type": "code",
      "source": [
        "def fidelity_promo(order):\n",
        "  \"\"\"충성도 점수가 1000점 이상인 고객에게 전체 5% 할인 적용\"\"\"\n",
        "  return order.total() * 0.05 if order.customer.fidelity >= 1000 else 0\n",
        "\n",
        "def bulk_item_promo(order):\n",
        "  \"\"\"20개 이상의 동일 상품을 구입하면 10% 할인 적용\"\"\"\n",
        "  discount = 0\n",
        "  for item in order.cart:\n",
        "    if item.quantity >= 20:\n",
        "      discount += item.total() * 0.1\n",
        "  return discount\n",
        "\n",
        "def large_order_promo(order):\n",
        "  \"\"\"10종류 이상의 상품을 구입하면 전체 7% 할인 적용\"\"\"\n",
        "  distinct_items = {item.product for item in order.cart}\n",
        "  if len(distinct_items) >= 10:\n",
        "    return order.total() * 0.07\n",
        "  return 0"
      ],
      "metadata": {
        "id": "8I1xBotcOtus"
      },
      "execution_count": 51,
      "outputs": []
    },
    {
      "cell_type": "code",
      "source": [
        "Order(joe, cart, fidelity_promo)"
      ],
      "metadata": {
        "colab": {
          "base_uri": "https://localhost:8080/"
        },
        "id": "FPc5HGuhQHtR",
        "outputId": "2207a4c5-15d0-4b0c-c517-db05d6af9544"
      },
      "execution_count": 52,
      "outputs": [
        {
          "output_type": "execute_result",
          "data": {
            "text/plain": [
              "<Order total: 42.00 due: 42.00>"
            ]
          },
          "metadata": {},
          "execution_count": 52
        }
      ]
    },
    {
      "cell_type": "code",
      "source": [
        "Order(ann, cart, fidelity_promo)"
      ],
      "metadata": {
        "colab": {
          "base_uri": "https://localhost:8080/"
        },
        "id": "lHsHsoDgQKzI",
        "outputId": "ea35febc-21cf-4287-a55d-5aff7c0b7546"
      },
      "execution_count": 53,
      "outputs": [
        {
          "output_type": "execute_result",
          "data": {
            "text/plain": [
              "<Order total: 42.00 due: 39.90>"
            ]
          },
          "metadata": {},
          "execution_count": 53
        }
      ]
    },
    {
      "cell_type": "code",
      "source": [
        "Order(joe, banana_cart, bulk_item_promo)"
      ],
      "metadata": {
        "colab": {
          "base_uri": "https://localhost:8080/"
        },
        "id": "UcWvxxEURSB1",
        "outputId": "5dc19eb8-6067-4dc2-f4c6-1d73a9009351"
      },
      "execution_count": 54,
      "outputs": [
        {
          "output_type": "execute_result",
          "data": {
            "text/plain": [
              "<Order total: 30.00 due: 28.50>"
            ]
          },
          "metadata": {},
          "execution_count": 54
        }
      ]
    },
    {
      "cell_type": "code",
      "source": [
        "Order(ann, long_order, large_order_promo)"
      ],
      "metadata": {
        "colab": {
          "base_uri": "https://localhost:8080/"
        },
        "id": "g0FTPLM9RUcT",
        "outputId": "d670589c-ca77-439e-e7f3-45b2e1335ffa"
      },
      "execution_count": 55,
      "outputs": [
        {
          "output_type": "execute_result",
          "data": {
            "text/plain": [
              "<Order total: 10.00 due: 9.30>"
            ]
          },
          "metadata": {},
          "execution_count": 55
        }
      ]
    },
    {
      "cell_type": "code",
      "source": [
        "promos = [fidelity_promo, bulk_item_promo, large_order_promo]\n",
        "\n",
        "def best_promo(order):\n",
        "  \"\"\"최대로 할인받을 금액을 반환\"\"\"\n",
        "  return max(promo(order) for promo in promos)"
      ],
      "metadata": {
        "id": "OZ6UYi8pRXUA"
      },
      "execution_count": 56,
      "outputs": []
    },
    {
      "cell_type": "code",
      "source": [
        "Order(joe, long_order, best_promo)"
      ],
      "metadata": {
        "colab": {
          "base_uri": "https://localhost:8080/"
        },
        "id": "6HnaowpuReye",
        "outputId": "6829ad39-f931-4d68-8024-91f7bee2016c"
      },
      "execution_count": 57,
      "outputs": [
        {
          "output_type": "execute_result",
          "data": {
            "text/plain": [
              "<Order total: 10.00 due: 9.30>"
            ]
          },
          "metadata": {},
          "execution_count": 57
        }
      ]
    },
    {
      "cell_type": "code",
      "source": [
        "Order(joe, banana_cart, best_promo)"
      ],
      "metadata": {
        "colab": {
          "base_uri": "https://localhost:8080/"
        },
        "id": "CbsOdbwFRiOl",
        "outputId": "89821535-dfb6-4692-a8e4-3e6a2dc68be0"
      },
      "execution_count": 58,
      "outputs": [
        {
          "output_type": "execute_result",
          "data": {
            "text/plain": [
              "<Order total: 30.00 due: 28.50>"
            ]
          },
          "metadata": {},
          "execution_count": 58
        }
      ]
    },
    {
      "cell_type": "code",
      "source": [
        "Order(ann, cart, best_promo)"
      ],
      "metadata": {
        "colab": {
          "base_uri": "https://localhost:8080/"
        },
        "id": "ibXb1Do0RnOn",
        "outputId": "ac54aabf-dee8-4f8d-820d-31ea6b512d88"
      },
      "execution_count": 59,
      "outputs": [
        {
          "output_type": "execute_result",
          "data": {
            "text/plain": [
              "<Order total: 42.00 due: 39.90>"
            ]
          },
          "metadata": {},
          "execution_count": 59
        }
      ]
    },
    {
      "cell_type": "code",
      "source": [
        "globals().keys()"
      ],
      "metadata": {
        "colab": {
          "base_uri": "https://localhost:8080/"
        },
        "id": "NoKIVc4mRpOB",
        "outputId": "df6003bc-51b6-4954-eab0-a5a8d95c9de1"
      },
      "execution_count": 60,
      "outputs": [
        {
          "output_type": "execute_result",
          "data": {
            "text/plain": [
              "dict_keys(['__name__', '__doc__', '__package__', '__loader__', '__spec__', '__builtin__', '__builtins__', '_ih', '_oh', '_dh', 'In', 'Out', 'get_ipython', 'exit', 'quit', '_', '__', '___', '_i', '_ii', '_iii', '_i1', 'ABC', 'abstractmethod', 'namedtuple', 'Customer', '_i2', 'park', '_2', '_i3', 'LineItem', '_i4', 'Order', '_i5', 'Promotion', '_i6', 'FidelityPromo', 'BulkItemPromo', 'LArgeOrderPromo', '_i7', 'joe', 'ann', 'cart', '_i8', '_8', '_i9', '_9', '_i10', '_i11', '_i12', '_i13', '_i14', '_i15', '_15', '_i16', '_i17', '_i18', '_i19', '_i20', '_i21', '_21', '_i22', '_22', '_i23', 'banana_cart', '_i24', '_24', '_i25', 'long_order', '_i26', '_i27', '_i28', 'LargeOrderPromo', '_i29', '_i30', '_30', '_i31', '_31', '_i32', '_i33', '_33', '_i34', '_i35', '_35', '_i36', '_36', '_i37', '_i38', '_i40', '_i41', 'fidelity_promo', 'bulk_item_promo', 'large_order_promo', '_i42', '_42', '_i43', '_43', '_i44', '_i45', '_45', '_i46', '_i47', '_i48', '_i49', '_49', '_i50', '_i51', '_i52', '_52', '_i53', '_53', '_i54', '_54', '_i55', '_55', '_i56', 'promos', 'best_promo', '_i57', '_57', '_i58', '_58', '_i59', '_59', '_i60'])"
            ]
          },
          "metadata": {},
          "execution_count": 60
        }
      ]
    },
    {
      "cell_type": "code",
      "source": [
        "globals()['best_promo']"
      ],
      "metadata": {
        "colab": {
          "base_uri": "https://localhost:8080/",
          "height": 104
        },
        "id": "CW9_e8h0RsUg",
        "outputId": "fd4b2e02-d841-4147-ce4f-474a8e65f669"
      },
      "execution_count": 61,
      "outputs": [
        {
          "output_type": "execute_result",
          "data": {
            "text/plain": [
              "<function __main__.best_promo(order)>"
            ],
            "text/html": [
              "<div style=\"max-width:800px; border: 1px solid var(--colab-border-color);\"><style>\n",
              "      pre.function-repr-contents {\n",
              "        overflow-x: auto;\n",
              "        padding: 8px 12px;\n",
              "        max-height: 500px;\n",
              "      }\n",
              "\n",
              "      pre.function-repr-contents.function-repr-contents-collapsed {\n",
              "        cursor: pointer;\n",
              "        max-height: 100px;\n",
              "      }\n",
              "    </style>\n",
              "    <pre style=\"white-space: initial; background:\n",
              "         var(--colab-secondary-surface-color); padding: 8px 12px;\n",
              "         border-bottom: 1px solid var(--colab-border-color);\"><b>best_promo</b><br/>def best_promo(order)</pre><pre class=\"function-repr-contents function-repr-contents-collapsed\" style=\"\"><a class=\"filepath\" style=\"display:none\" href=\"#\">/tmp/ipython-input-603734035.py</a>최대로 할인받을 금액을 반환</pre></div>"
            ]
          },
          "metadata": {},
          "execution_count": 61
        }
      ]
    },
    {
      "cell_type": "code",
      "source": [
        "promos = [globals()[name] for name in globals() if name.endswith('_promo') and name != 'best_promo']\n",
        "promos"
      ],
      "metadata": {
        "colab": {
          "base_uri": "https://localhost:8080/"
        },
        "id": "rCwHJM4LRwt3",
        "outputId": "86150c5f-46f7-424c-9f7d-64fe6e39a289"
      },
      "execution_count": 62,
      "outputs": [
        {
          "output_type": "execute_result",
          "data": {
            "text/plain": [
              "[<function __main__.fidelity_promo(order)>,\n",
              " <function __main__.bulk_item_promo(order)>,\n",
              " <function __main__.large_order_promo(order)>]"
            ]
          },
          "metadata": {},
          "execution_count": 62
        }
      ]
    },
    {
      "cell_type": "code",
      "source": [],
      "metadata": {
        "id": "aTyhgKFQR3FI"
      },
      "execution_count": null,
      "outputs": []
    }
  ]
}